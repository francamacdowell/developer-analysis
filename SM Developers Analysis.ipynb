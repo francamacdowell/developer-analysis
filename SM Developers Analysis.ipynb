{
 "cells": [
  {
   "cell_type": "markdown",
   "metadata": {},
   "source": [
    "# Developers' Software Metrics Analysis"
   ]
  },
  {
   "cell_type": "markdown",
   "metadata": {},
   "source": [
    "Projects used in this analysis:\n",
    " * [__Elasticsearch Hadoop__](https://github.com/elastic/elasticsearch-hadoop)\n",
    " * [__Elasticsearch__](https://github.com/elastic/elasticsearch)\n",
    " * [__ExoPlayer__](https://github.com/google/ExoPlayer)\n",
    " * [__HikariCP__](https://github.com/brettwooldridge/HikariCP)\n",
    " * [__okhttp__](https://github.com/square/okhttp)\n",
    " * [__signal-android__](https://github.com/signalapp/Signal-Android)\n",
    " \n",
    " <font color='red'>__Note__: For each project, doesn't have all commits. Have all commits with __SM__ due to configurations commits.</font>"
   ]
  },
  {
   "cell_type": "markdown",
   "metadata": {},
   "source": [
    "## Getting started\n",
    "\n",
    "Importing needed libs:"
   ]
  },
  {
   "cell_type": "code",
   "execution_count": 20,
   "metadata": {},
   "outputs": [],
   "source": [
    "import os\n",
    "import pandas as pd\n",
    "import numpy as np\n",
    "import seaborn as sns\n",
    "import matplotlib.pyplot as plt"
   ]
  },
  {
   "cell_type": "code",
   "execution_count": 25,
   "metadata": {
    "scrolled": true
   },
   "outputs": [
    {
     "name": "stdout",
     "output_type": "stream",
     "text": [
      "\n",
      "Project: HikariCP\n",
      "              user  commits_number  commits_percent\n",
      "0  brettwooldridge            2206           0.8511\n",
      "1    nitincchauhan             241           0.0930\n",
      "2            ash2k              11           0.0042\n",
      "3           johnou               6           0.0023\n",
      "4            gsmet               6           0.0023\n",
      "\n",
      "Project: signal-android\n",
      "        user  commits_number  commits_percent\n",
      "0     moxie0            2127           0.6332\n",
      "1    mcginty             528           0.1572\n",
      "2  agrajaghh              71           0.0211\n",
      "3     rhodey              54           0.0161\n",
      "4  FeuRenard              38           0.0113\n",
      "\n",
      "Project: elasticsearch-hadoop\n",
      "             user  commits_number  commits_percent\n",
      "0          costin            1428           0.8031\n",
      "1         jbaiera             229           0.1288\n",
      "2  clintongormley              17           0.0096\n",
      "3     Costin Leau              13           0.0073\n",
      "4         takezoe               8           0.0045\n",
      "\n",
      "Project: Elastic-hadoop\n",
      "             user  commits_number  commits_percent\n",
      "0          costin            1428           0.8031\n",
      "1         jbaiera             229           0.1288\n",
      "2  clintongormley              17           0.0096\n",
      "3     Costin Leau              13           0.0073\n",
      "4         takezoe               8           0.0045\n",
      "\n",
      "Project: okhttp\n",
      "          user  commits_number  commits_percent\n",
      "0   swankjesse            1676           0.5336\n",
      "1  JakeWharton             706           0.2248\n",
      "2   adriancole             230           0.0732\n",
      "3     yschimke              62           0.0197\n",
      "4      nfuller              56           0.0178\n",
      "\n",
      "Project: ExoPlayer\n",
      "           user  commits_number  commits_percent\n",
      "0         ojw28            2196           0.6605\n",
      "1   andrewlewis             301           0.0905\n",
      "2  AquilesCanta             204           0.0614\n",
      "3    erdemguven             151           0.0454\n",
      "4       tonihei              63           0.0189\n"
     ]
    }
   ],
   "source": [
    "projects = os.walk('/home/macdowell/pesquisa/developer_analysis/Brute Data')\n",
    "\n",
    "for path, trash, files in projects:\n",
    "\n",
    "    if 'HikariCP.zip' in files:\n",
    "        continue\n",
    "\n",
    "    project_len = len(files)\n",
    "    dev_list= []\n",
    "\n",
    "    for file in files:\n",
    "        splitted = file.split('_')\n",
    "        dev_list.append(splitted[0])\n",
    "\n",
    "    df = pd.DataFrame(dev_list, columns=['user'])\n",
    "    df = pd.value_counts(df.user).to_frame().reset_index()\n",
    "    df.columns = ['user', 'commits_number']\n",
    "    df['commits_percent'] = round(np.multiply(df['commits_number'], 1 / project_len), 4)\n",
    "    \n",
    "    p_name = path.split('/')\n",
    "    p_name = p_name[-1]\n",
    "    print('\\nProject: ' + p_name)\n",
    "    print(df.head())\n",
    "    top_five = df.head()"
   ]
  }
 ],
 "metadata": {
  "kernelspec": {
   "display_name": "Python 3",
   "language": "python",
   "name": "python3"
  },
  "language_info": {
   "codemirror_mode": {
    "name": "ipython",
    "version": 3
   },
   "file_extension": ".py",
   "mimetype": "text/x-python",
   "name": "python",
   "nbconvert_exporter": "python",
   "pygments_lexer": "ipython3",
   "version": "3.6.6"
  }
 },
 "nbformat": 4,
 "nbformat_minor": 2
}
